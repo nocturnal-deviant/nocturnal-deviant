{
  "nbformat": 4,
  "nbformat_minor": 0,
  "metadata": {
    "colab": {
      "provenance": [],
      "authorship_tag": "ABX9TyOu8y7iXcq/GY0AFwj/Z+SN",
      "include_colab_link": true
    },
    "kernelspec": {
      "name": "python3",
      "display_name": "Python 3"
    },
    "language_info": {
      "name": "python"
    }
  },
  "cells": [
    {
      "cell_type": "markdown",
      "metadata": {
        "id": "view-in-github",
        "colab_type": "text"
      },
      "source": [
        "<a href=\"https://colab.research.google.com/github/nocturnal-deviant/nocturnal-deviant/blob/main/Image_classification_cat%26dog.ipynb\" target=\"_parent\"><img src=\"https://colab.research.google.com/assets/colab-badge.svg\" alt=\"Open In Colab\"/></a>"
      ]
    },
    {
      "cell_type": "code",
      "source": [
        "from google.colab import drive\n",
        "drive.mount('/content/drive')"
      ],
      "metadata": {
        "colab": {
          "base_uri": "https://localhost:8080/"
        },
        "id": "52d0UZTfRVuX",
        "outputId": "839d0353-f2da-419f-c75d-2fc140d0b524"
      },
      "execution_count": 18,
      "outputs": [
        {
          "output_type": "stream",
          "name": "stdout",
          "text": [
            "Drive already mounted at /content/drive; to attempt to forcibly remount, call drive.mount(\"/content/drive\", force_remount=True).\n"
          ]
        }
      ]
    },
    {
      "cell_type": "code",
      "source": [
        "import numpy as np\n",
        "import pandas as pd #data manipulation& analysis\n",
        "from sklearn import svm #support vector machine\n",
        "import os #to handle files & dictionary\n",
        "from skimage.transform import resize #image resizing\n",
        "from skimage.io import imread #to read image\n",
        "from sklearn.model_selection import train_test_split #to train and test data"
      ],
      "metadata": {
        "id": "q62VGY2SR5dj"
      },
      "execution_count": 19,
      "outputs": []
    },
    {
      "cell_type": "code",
      "source": [
        "len(os.listdir('/content/drive/MyDrive/Data'))"
      ],
      "metadata": {
        "id": "6XM8jdMCTSZU",
        "colab": {
          "base_uri": "https://localhost:8080/"
        },
        "outputId": "c392fa8b-6be0-470b-9a1b-a9c8c4af0ed8"
      },
      "execution_count": 20,
      "outputs": [
        {
          "output_type": "execute_result",
          "data": {
            "text/plain": [
              "2"
            ]
          },
          "metadata": {},
          "execution_count": 20
        }
      ]
    },
    {
      "cell_type": "code",
      "source": [
        "len(os.listdir('/content/drive/MyDrive/Data/Cat'))"
      ],
      "metadata": {
        "colab": {
          "base_uri": "https://localhost:8080/"
        },
        "id": "xSf_8BI9fSbl",
        "outputId": "2a009ef9-a9da-461b-fd88-0ef10084fb14"
      },
      "execution_count": 21,
      "outputs": [
        {
          "output_type": "execute_result",
          "data": {
            "text/plain": [
              "70"
            ]
          },
          "metadata": {},
          "execution_count": 21
        }
      ]
    },
    {
      "cell_type": "code",
      "source": [
        "len(os.listdir('/content/drive/MyDrive/Data/Dog'))"
      ],
      "metadata": {
        "colab": {
          "base_uri": "https://localhost:8080/"
        },
        "id": "QS5AxPQ6gKga",
        "outputId": "4d87b42a-cde4-4431-b96e-3d9ecead1c97"
      },
      "execution_count": 22,
      "outputs": [
        {
          "output_type": "execute_result",
          "data": {
            "text/plain": [
              "73"
            ]
          },
          "metadata": {},
          "execution_count": 22
        }
      ]
    },
    {
      "cell_type": "code",
      "source": [
        "catpath=os.path.join('/content/drive/MyDrive/Data','Cat')\n",
        "for img in os.listdir(catpath):\n",
        "  print(img)"
      ],
      "metadata": {
        "colab": {
          "base_uri": "https://localhost:8080/"
        },
        "id": "zNoBp4CMgR1q",
        "outputId": "8f0820ea-293a-4a44-c14e-c3de7f585342"
      },
      "execution_count": 107,
      "outputs": [
        {
          "output_type": "stream",
          "name": "stdout",
          "text": [
            "cat.10.jpg\n",
            "cat.1.jpg\n",
            "cat.11.jpg\n",
            "cat.18.jpg\n",
            "cat.21.jpg\n",
            "cat.2.jpg\n",
            "cat.15.jpg\n",
            "cat.20.jpg\n",
            "cat.17.jpg\n",
            "cat.16.jpg\n",
            "cat.19.jpg\n",
            "cat.12.jpg\n",
            "cat.13.jpg\n",
            "cat.14.jpg\n",
            "cat.23.jpg\n",
            "cat.29.jpg\n",
            "cat.28.jpg\n",
            "cat.30.jpg\n",
            "cat.25.jpg\n",
            "cat.31.jpg\n",
            "cat.26.jpg\n",
            "cat.22.jpg\n",
            "cat.24.jpg\n",
            "cat.27.jpg\n",
            "cat.3.jpg\n",
            "cat.54.jpg\n",
            "cat.34.jpg\n",
            "cat.62.jpg\n",
            "cat.63.jpg\n",
            "cat.57.jpg\n",
            "cat.43.jpg\n",
            "cat.47.jpg\n",
            "cat.60.jpg\n",
            "cat.49.jpg\n",
            "cat.48.jpg\n",
            "cat.44.jpg\n",
            "cat.39.jpg\n",
            "cat.41.jpg\n",
            "cat.56.jpg\n",
            "cat.61.jpg\n",
            "cat.32.jpg\n",
            "cat.45.jpg\n",
            "cat.46.jpg\n",
            "cat.55.jpg\n",
            "cat.53.jpg\n",
            "cat.40.jpg\n",
            "cat.36.jpg\n",
            "cat.6.jpg\n",
            "cat.33.jpg\n",
            "cat.37.jpg\n",
            "cat.51.jpg\n",
            "cat.58.jpg\n",
            "cat.4.jpg\n",
            "cat.35.jpg\n",
            "cat.42.jpg\n",
            "cat.38.jpg\n",
            "cat.52.jpg\n",
            "cat.5.jpg\n",
            "cat.50.jpg\n",
            "cat.59.jpg\n",
            "cat.70.jpg\n",
            "cat.9.jpg\n",
            "cat.67.jpg\n",
            "cat.68.jpg\n",
            "cat.65.jpg\n",
            "cat.64.jpg\n",
            "cat.8.jpg\n",
            "cat.69.jpg\n",
            "cat.66.jpg\n",
            "cat.7.jpg\n"
          ]
        }
      ]
    },
    {
      "cell_type": "code",
      "source": [
        "dogpath=os.path.join('/content/drive/MyDrive/Data','Dog')\n",
        "for img in os.listdir(dogpath):\n",
        "  print(img)"
      ],
      "metadata": {
        "colab": {
          "base_uri": "https://localhost:8080/"
        },
        "id": "vKs7KwWVha0a",
        "outputId": "1d7a0ae1-722e-4e10-dcbb-001207b1afd9"
      },
      "execution_count": 108,
      "outputs": [
        {
          "output_type": "stream",
          "name": "stdout",
          "text": [
            "dog.125.jpg\n",
            "dog.139.jpg\n",
            "dog.131.jpg\n",
            "dog.114.jpg\n",
            "dog.130.jpg\n",
            "dog.104.jpg\n",
            "dog.119.jpg\n",
            "dog.109.jpg\n",
            "dog.103.jpg\n",
            "dog.135.jpg\n",
            "dog.128.jpg\n",
            "dog.140.jpg\n",
            "dog.127.jpg\n",
            "dog.121.jpg\n",
            "dog.132.jpg\n",
            "dog.101.jpg\n",
            "dog.100.jpg\n",
            "dog.136.jpg\n",
            "dog.102.jpg\n",
            "dog.120.jpg\n",
            "dog.116.jpg\n",
            "dog.108.jpg\n",
            "dog.117.jpg\n",
            "dog.124.jpg\n",
            "dog.110.jpg\n",
            "dog.123.jpg\n",
            "dog.111.jpg\n",
            "dog.118.jpg\n",
            "dog.134.jpg\n",
            "dog.129.jpg\n",
            "dog.133.jpg\n",
            "dog.137.jpg\n",
            "dog.115.jpg\n",
            "dog.106.jpg\n",
            "dog.122.jpg\n",
            "dog.138.jpg\n",
            "dog.112.jpg\n",
            "dog.126.jpg\n",
            "dog.105.jpg\n",
            "dog.107.jpg\n",
            "dog.113.jpg\n",
            "dog.84(1).jpg\n",
            "dog.82.jpg\n",
            "dog.96.jpg\n",
            "dog.89.jpg\n",
            "dog.90(1).jpg\n",
            "dog.71.jpg\n",
            "dog.78.jpg\n",
            "dog.90.jpg\n",
            "dog.75.jpg\n",
            "dog.74.jpg\n",
            "dog.80.jpg\n",
            "dog.84.jpg\n",
            "dog.98.jpg\n",
            "dog.97.jpg\n",
            "dog.86.jpg\n",
            "dog.81.jpg\n",
            "dog.87.jpg\n",
            "dog.93.jpg\n",
            "dog.79.jpg\n",
            "dog.95.jpg\n",
            "dog.94.jpg\n",
            "dog.72.jpg\n",
            "dog.85.jpg\n",
            "dog.91.jpg\n",
            "dog.70.jpg\n",
            "dog.76.jpg\n",
            "dog.77.jpg\n",
            "dog.92.jpg\n",
            "dog.73.jpg\n",
            "dog.88.jpg\n",
            "dog.99.jpg\n",
            "dog.83.jpg\n"
          ]
        }
      ]
    },
    {
      "cell_type": "code",
      "source": [
        "flat_data_arr=[] #\n",
        "target_arr=[]   # to collect target variables\n",
        "categories=['Cat','Dog'] #cat indeex=0 dog index=1\n",
        "data_dir='/content/drive/MyDrive/Data'"
      ],
      "metadata": {
        "id": "WqNm0aMIh4X1"
      },
      "execution_count": 32,
      "outputs": []
    },
    {
      "cell_type": "code",
      "source": [
        "for i in categories: #elements iin categoriesd\n",
        "  print(\"Loading... categories\")\n",
        "  path=os.path.join(data_dir,i) #loc of data+i=0 so cat,when i is iterated one= dog\n",
        "  # for img in os.listdir(path)[1:100]:\n",
        "  for img in os.listdir(path):\n",
        "    img_array=imread(os.path.join(path,img)) # each img from cat_loc  is assigned to img_array\n",
        "    #resizing all the images into a single size\n",
        "    img_resize=resize(img_array,(150,150,3)) #height,width,pixel\n",
        "    #pixel=3== rgb\n",
        "    flat_data_arr.append(img_resize.flatten()) #flatten converts all images into 1d\n",
        "    target_arr.append(categories.index(i)) #here index nums is 0,1 stored into target appnd\n",
        "  print('Loading Categories',i,'Successfully')\n"
      ],
      "metadata": {
        "colab": {
          "base_uri": "https://localhost:8080/"
        },
        "id": "dj09XZ91js-v",
        "outputId": "36f45eae-f860-43eb-f113-1329d229c029"
      },
      "execution_count": 33,
      "outputs": [
        {
          "output_type": "stream",
          "name": "stdout",
          "text": [
            "Loading... categories\n",
            "Loading Categories Cat Successfully\n",
            "Loading... categories\n",
            "Loading Categories Dog Successfully\n"
          ]
        }
      ]
    },
    {
      "cell_type": "code",
      "source": [
        "flat_data=np.array(flat_data_arr)\n",
        "target=np.array(target_arr)\n",
        "#converted in to numpy array\n",
        "df=pd.DataFrame(flat_data)\n",
        "print(df)\n",
        "#[143 rows x 67500 columns] 143 total images\n",
        "#67500 cols=pixels of the 143 images"
      ],
      "metadata": {
        "colab": {
          "base_uri": "https://localhost:8080/"
        },
        "id": "6TjPj1Efk_aS",
        "outputId": "a4c601c0-99b3-4536-ff0e-16782a08cd3f"
      },
      "execution_count": 35,
      "outputs": [
        {
          "output_type": "stream",
          "name": "stdout",
          "text": [
            "        0         1         2         3         4         5         6      \\\n",
            "0    0.112228  0.128223  0.163371  0.068746  0.084741  0.126227  0.088115   \n",
            "1    0.154919  0.174317  0.159261  0.158661  0.174558  0.170846  0.160470   \n",
            "2    0.890553  0.917212  0.910823  0.910131  0.948709  0.945972  0.928773   \n",
            "3    0.451656  0.011537  0.071474  0.451754  0.006647  0.057654  0.470726   \n",
            "4    0.714892  0.566872  0.364221  0.742174  0.609292  0.426481  0.770887   \n",
            "..        ...       ...       ...       ...       ...       ...       ...   \n",
            "138  0.114174  0.125938  0.145546  0.120986  0.132751  0.152359  0.141250   \n",
            "139  0.742416  0.640047  0.588862  0.749734  0.640349  0.585658  0.747002   \n",
            "140  0.273563  0.401005  0.240492  0.248680  0.383011  0.216300  0.252576   \n",
            "141  0.698039  0.698039  0.698039  0.698039  0.698039  0.698039  0.698039   \n",
            "142  0.335962  0.261452  0.206550  0.346634  0.272124  0.217222  0.341562   \n",
            "\n",
            "        7         8         9      ...     67490     67491     67492  \\\n",
            "0    0.103878  0.150676  0.149697  ...  0.007189  0.756716  0.752599   \n",
            "1    0.175946  0.187711  0.162110  ...  0.224704  0.197737  0.138908   \n",
            "2    0.980047  0.981538  0.751675  ...  0.947640  0.774726  0.835204   \n",
            "3    0.015824  0.064585  0.473853  ...  0.062544  0.643680  0.015653   \n",
            "4    0.646118  0.480999  0.740483  ...  0.805638  0.793761  0.772856   \n",
            "..        ...       ...       ...  ...       ...       ...       ...   \n",
            "138  0.153014  0.172622  0.143105  ...  0.332836  0.207906  0.278495   \n",
            "139  0.637000  0.581701  0.781008  ...  0.595267  0.711592  0.622949   \n",
            "140  0.395702  0.220253  0.236500  ...  0.167131  0.125188  0.199298   \n",
            "141  0.698039  0.698039  0.698039  ...  0.074510  0.631373  0.403922   \n",
            "142  0.267052  0.212150  0.323659  ...  0.564491  0.584412  0.525189   \n",
            "\n",
            "        67493     67494     67495     67496     67497     67498     67499  \n",
            "0    0.015991  0.728919  0.718806  0.022200  0.675097  0.655304  0.015257  \n",
            "1    0.111461  0.189636  0.138860  0.107701  0.176476  0.136531  0.101754  \n",
            "2    0.943902  0.761761  0.824498  0.923504  0.784133  0.846879  0.942937  \n",
            "3    0.068017  0.646304  0.015167  0.078620  0.654410  0.026440  0.075185  \n",
            "4    0.779371  0.791027  0.778725  0.783049  0.779079  0.768586  0.772811  \n",
            "..        ...       ...       ...       ...       ...       ...       ...  \n",
            "138  0.317710  0.218197  0.288785  0.328001  0.290529  0.361117  0.400333  \n",
            "139  0.586031  0.656580  0.577542  0.542447  0.676627  0.591136  0.554078  \n",
            "140  0.177644  0.073159  0.146621  0.115168  0.074034  0.137034  0.098395  \n",
            "141  0.074510  0.631373  0.403922  0.074510  0.631373  0.403922  0.074510  \n",
            "142  0.536911  0.557707  0.495364  0.508143  0.508083  0.452514  0.472313  \n",
            "\n",
            "[143 rows x 67500 columns]\n"
          ]
        }
      ]
    },
    {
      "cell_type": "code",
      "source": [
        "df.shape"
      ],
      "metadata": {
        "colab": {
          "base_uri": "https://localhost:8080/"
        },
        "id": "AIG4W7A9BgDY",
        "outputId": "0e319c9f-6f62-427f-e275-ad3e86243b50"
      },
      "execution_count": 36,
      "outputs": [
        {
          "output_type": "execute_result",
          "data": {
            "text/plain": [
              "(143, 67500)"
            ]
          },
          "metadata": {},
          "execution_count": 36
        }
      ]
    },
    {
      "cell_type": "code",
      "source": [
        "df['Target']=target"
      ],
      "metadata": {
        "id": "L9CfRr-2CMrR"
      },
      "execution_count": 38,
      "outputs": []
    },
    {
      "cell_type": "code",
      "source": [
        "print(df)"
      ],
      "metadata": {
        "colab": {
          "base_uri": "https://localhost:8080/"
        },
        "id": "sOdJx3ybCigP",
        "outputId": "77866006-fb52-4e58-c928-01dfe38193f2"
      },
      "execution_count": 40,
      "outputs": [
        {
          "output_type": "stream",
          "name": "stdout",
          "text": [
            "            0         1         2         3         4         5         6  \\\n",
            "0    0.112228  0.128223  0.163371  0.068746  0.084741  0.126227  0.088115   \n",
            "1    0.154919  0.174317  0.159261  0.158661  0.174558  0.170846  0.160470   \n",
            "2    0.890553  0.917212  0.910823  0.910131  0.948709  0.945972  0.928773   \n",
            "3    0.451656  0.011537  0.071474  0.451754  0.006647  0.057654  0.470726   \n",
            "4    0.714892  0.566872  0.364221  0.742174  0.609292  0.426481  0.770887   \n",
            "..        ...       ...       ...       ...       ...       ...       ...   \n",
            "138  0.114174  0.125938  0.145546  0.120986  0.132751  0.152359  0.141250   \n",
            "139  0.742416  0.640047  0.588862  0.749734  0.640349  0.585658  0.747002   \n",
            "140  0.273563  0.401005  0.240492  0.248680  0.383011  0.216300  0.252576   \n",
            "141  0.698039  0.698039  0.698039  0.698039  0.698039  0.698039  0.698039   \n",
            "142  0.335962  0.261452  0.206550  0.346634  0.272124  0.217222  0.341562   \n",
            "\n",
            "            7         8         9  ...     67491     67492     67493  \\\n",
            "0    0.103878  0.150676  0.149697  ...  0.756716  0.752599  0.015991   \n",
            "1    0.175946  0.187711  0.162110  ...  0.197737  0.138908  0.111461   \n",
            "2    0.980047  0.981538  0.751675  ...  0.774726  0.835204  0.943902   \n",
            "3    0.015824  0.064585  0.473853  ...  0.643680  0.015653  0.068017   \n",
            "4    0.646118  0.480999  0.740483  ...  0.793761  0.772856  0.779371   \n",
            "..        ...       ...       ...  ...       ...       ...       ...   \n",
            "138  0.153014  0.172622  0.143105  ...  0.207906  0.278495  0.317710   \n",
            "139  0.637000  0.581701  0.781008  ...  0.711592  0.622949  0.586031   \n",
            "140  0.395702  0.220253  0.236500  ...  0.125188  0.199298  0.177644   \n",
            "141  0.698039  0.698039  0.698039  ...  0.631373  0.403922  0.074510   \n",
            "142  0.267052  0.212150  0.323659  ...  0.584412  0.525189  0.536911   \n",
            "\n",
            "        67494     67495     67496     67497     67498     67499  Target  \n",
            "0    0.728919  0.718806  0.022200  0.675097  0.655304  0.015257       0  \n",
            "1    0.189636  0.138860  0.107701  0.176476  0.136531  0.101754       0  \n",
            "2    0.761761  0.824498  0.923504  0.784133  0.846879  0.942937       0  \n",
            "3    0.646304  0.015167  0.078620  0.654410  0.026440  0.075185       0  \n",
            "4    0.791027  0.778725  0.783049  0.779079  0.768586  0.772811       0  \n",
            "..        ...       ...       ...       ...       ...       ...     ...  \n",
            "138  0.218197  0.288785  0.328001  0.290529  0.361117  0.400333       1  \n",
            "139  0.656580  0.577542  0.542447  0.676627  0.591136  0.554078       1  \n",
            "140  0.073159  0.146621  0.115168  0.074034  0.137034  0.098395       1  \n",
            "141  0.631373  0.403922  0.074510  0.631373  0.403922  0.074510       1  \n",
            "142  0.557707  0.495364  0.508143  0.508083  0.452514  0.472313       1  \n",
            "\n",
            "[143 rows x 67501 columns]\n"
          ]
        }
      ]
    },
    {
      "cell_type": "code",
      "source": [
        "x=df.iloc[:,:-1]\n",
        "y=df.iloc[:,-1]"
      ],
      "metadata": {
        "id": "U5StcW0yCjGd"
      },
      "execution_count": 41,
      "outputs": []
    },
    {
      "cell_type": "code",
      "source": [
        "xtrain,xtest,ytrain,ytest=train_test_split(x,y,test_size=0.30,random_state=42)"
      ],
      "metadata": {
        "id": "cD6IORW4C5P_"
      },
      "execution_count": 88,
      "outputs": []
    },
    {
      "cell_type": "code",
      "source": [
        "classifier=svm.SVC()\n",
        "classifier.fit(xtrain,ytrain)"
      ],
      "metadata": {
        "colab": {
          "base_uri": "https://localhost:8080/",
          "height": 75
        },
        "id": "QWg4mx_4DH9R",
        "outputId": "86974462-147b-4538-e6e1-3366dfe89639"
      },
      "execution_count": 89,
      "outputs": [
        {
          "output_type": "execute_result",
          "data": {
            "text/plain": [
              "SVC()"
            ],
            "text/html": [
              "<style>#sk-container-id-11 {color: black;background-color: white;}#sk-container-id-11 pre{padding: 0;}#sk-container-id-11 div.sk-toggleable {background-color: white;}#sk-container-id-11 label.sk-toggleable__label {cursor: pointer;display: block;width: 100%;margin-bottom: 0;padding: 0.3em;box-sizing: border-box;text-align: center;}#sk-container-id-11 label.sk-toggleable__label-arrow:before {content: \"▸\";float: left;margin-right: 0.25em;color: #696969;}#sk-container-id-11 label.sk-toggleable__label-arrow:hover:before {color: black;}#sk-container-id-11 div.sk-estimator:hover label.sk-toggleable__label-arrow:before {color: black;}#sk-container-id-11 div.sk-toggleable__content {max-height: 0;max-width: 0;overflow: hidden;text-align: left;background-color: #f0f8ff;}#sk-container-id-11 div.sk-toggleable__content pre {margin: 0.2em;color: black;border-radius: 0.25em;background-color: #f0f8ff;}#sk-container-id-11 input.sk-toggleable__control:checked~div.sk-toggleable__content {max-height: 200px;max-width: 100%;overflow: auto;}#sk-container-id-11 input.sk-toggleable__control:checked~label.sk-toggleable__label-arrow:before {content: \"▾\";}#sk-container-id-11 div.sk-estimator input.sk-toggleable__control:checked~label.sk-toggleable__label {background-color: #d4ebff;}#sk-container-id-11 div.sk-label input.sk-toggleable__control:checked~label.sk-toggleable__label {background-color: #d4ebff;}#sk-container-id-11 input.sk-hidden--visually {border: 0;clip: rect(1px 1px 1px 1px);clip: rect(1px, 1px, 1px, 1px);height: 1px;margin: -1px;overflow: hidden;padding: 0;position: absolute;width: 1px;}#sk-container-id-11 div.sk-estimator {font-family: monospace;background-color: #f0f8ff;border: 1px dotted black;border-radius: 0.25em;box-sizing: border-box;margin-bottom: 0.5em;}#sk-container-id-11 div.sk-estimator:hover {background-color: #d4ebff;}#sk-container-id-11 div.sk-parallel-item::after {content: \"\";width: 100%;border-bottom: 1px solid gray;flex-grow: 1;}#sk-container-id-11 div.sk-label:hover label.sk-toggleable__label {background-color: #d4ebff;}#sk-container-id-11 div.sk-serial::before {content: \"\";position: absolute;border-left: 1px solid gray;box-sizing: border-box;top: 0;bottom: 0;left: 50%;z-index: 0;}#sk-container-id-11 div.sk-serial {display: flex;flex-direction: column;align-items: center;background-color: white;padding-right: 0.2em;padding-left: 0.2em;position: relative;}#sk-container-id-11 div.sk-item {position: relative;z-index: 1;}#sk-container-id-11 div.sk-parallel {display: flex;align-items: stretch;justify-content: center;background-color: white;position: relative;}#sk-container-id-11 div.sk-item::before, #sk-container-id-11 div.sk-parallel-item::before {content: \"\";position: absolute;border-left: 1px solid gray;box-sizing: border-box;top: 0;bottom: 0;left: 50%;z-index: -1;}#sk-container-id-11 div.sk-parallel-item {display: flex;flex-direction: column;z-index: 1;position: relative;background-color: white;}#sk-container-id-11 div.sk-parallel-item:first-child::after {align-self: flex-end;width: 50%;}#sk-container-id-11 div.sk-parallel-item:last-child::after {align-self: flex-start;width: 50%;}#sk-container-id-11 div.sk-parallel-item:only-child::after {width: 0;}#sk-container-id-11 div.sk-dashed-wrapped {border: 1px dashed gray;margin: 0 0.4em 0.5em 0.4em;box-sizing: border-box;padding-bottom: 0.4em;background-color: white;}#sk-container-id-11 div.sk-label label {font-family: monospace;font-weight: bold;display: inline-block;line-height: 1.2em;}#sk-container-id-11 div.sk-label-container {text-align: center;}#sk-container-id-11 div.sk-container {/* jupyter's `normalize.less` sets `[hidden] { display: none; }` but bootstrap.min.css set `[hidden] { display: none !important; }` so we also need the `!important` here to be able to override the default hidden behavior on the sphinx rendered scikit-learn.org. See: https://github.com/scikit-learn/scikit-learn/issues/21755 */display: inline-block !important;position: relative;}#sk-container-id-11 div.sk-text-repr-fallback {display: none;}</style><div id=\"sk-container-id-11\" class=\"sk-top-container\"><div class=\"sk-text-repr-fallback\"><pre>SVC()</pre><b>In a Jupyter environment, please rerun this cell to show the HTML representation or trust the notebook. <br />On GitHub, the HTML representation is unable to render, please try loading this page with nbviewer.org.</b></div><div class=\"sk-container\" hidden><div class=\"sk-item\"><div class=\"sk-estimator sk-toggleable\"><input class=\"sk-toggleable__control sk-hidden--visually\" id=\"sk-estimator-id-11\" type=\"checkbox\" checked><label for=\"sk-estimator-id-11\" class=\"sk-toggleable__label sk-toggleable__label-arrow\">SVC</label><div class=\"sk-toggleable__content\"><pre>SVC()</pre></div></div></div></div></div>"
            ]
          },
          "metadata": {},
          "execution_count": 89
        }
      ]
    },
    {
      "cell_type": "code",
      "source": [
        "ypred=classifier.predict(xtest)\n",
        "print(ypred)"
      ],
      "metadata": {
        "colab": {
          "base_uri": "https://localhost:8080/"
        },
        "id": "nPHerlXaDzF3",
        "outputId": "a8f3f44c-1b7a-432b-f044-1fc3fe31e997"
      },
      "execution_count": 90,
      "outputs": [
        {
          "output_type": "stream",
          "name": "stdout",
          "text": [
            "[1 0 1 1 0 0 1 1 0 1 1 1 1 1 1 0 1 1 1 1 1 1 1 1 0 1 1 0 1 1 1 0 0 1 1 1 1\n",
            " 0 1 1 1 1 1]\n"
          ]
        }
      ]
    },
    {
      "cell_type": "code",
      "source": [
        "from sklearn.metrics import classification_report,confusion_matrix,accuracy_score\n",
        "print(accuracy_score(ytest,ypred))\n",
        "print(classification_report(ytest,ypred))\n",
        "#here accuracy will be low due to low data collection"
      ],
      "metadata": {
        "colab": {
          "base_uri": "https://localhost:8080/"
        },
        "id": "4DaciP_yEAKY",
        "outputId": "d58c54d1-dd04-4a9b-90fd-03f1f2c12a38"
      },
      "execution_count": 94,
      "outputs": [
        {
          "output_type": "stream",
          "name": "stdout",
          "text": [
            "0.6511627906976745\n",
            "              precision    recall  f1-score   support\n",
            "\n",
            "           0       0.90      0.39      0.55        23\n",
            "           1       0.58      0.95      0.72        20\n",
            "\n",
            "    accuracy                           0.65        43\n",
            "   macro avg       0.74      0.67      0.63        43\n",
            "weighted avg       0.75      0.65      0.63        43\n",
            "\n"
          ]
        }
      ]
    },
    {
      "cell_type": "code",
      "source": [
        "from sklearn.metrics import ConfusionMatrixDisplay\n",
        "ConfusionMatrixDisplay.from_predictions(ytest,ypred)"
      ],
      "metadata": {
        "colab": {
          "base_uri": "https://localhost:8080/",
          "height": 466
        },
        "id": "a5-bJKdJEi0A",
        "outputId": "ecab8029-ace6-422e-e8bd-79148a4064ad"
      },
      "execution_count": 93,
      "outputs": [
        {
          "output_type": "execute_result",
          "data": {
            "text/plain": [
              "<sklearn.metrics._plot.confusion_matrix.ConfusionMatrixDisplay at 0x7d191010d600>"
            ]
          },
          "metadata": {},
          "execution_count": 93
        },
        {
          "output_type": "display_data",
          "data": {
            "text/plain": [
              "<Figure size 640x480 with 2 Axes>"
            ],
            "image/png": "[encoded data removed]"
          },
          "metadata": {}
        }
      ]
    },
    {
      "cell_type": "code",
      "source": [
        "path='/content/drive/MyDrive/cat.jpeg'\n",
        "img=imread(path)\n",
        "image=resize(img,(150,150,3)).flatten().reshape(1,-1) #here reshaped\n",
        "classifier.predict(image)"
      ],
      "metadata": {
        "colab": {
          "base_uri": "https://localhost:8080/"
        },
        "id": "qe3wr22GE7Lm",
        "outputId": "bcdcbfd9-913a-4166-de55-0d94b749ed23"
      },
      "execution_count": 102,
      "outputs": [
        {
          "output_type": "execute_result",
          "data": {
            "text/plain": [
              "array([1])"
            ]
          },
          "metadata": {},
          "execution_count": 102
        }
      ]
    },
    {
      "cell_type": "code",
      "source": [],
      "metadata": {
        "id": "Nl6CnCb0HNrz"
      },
      "execution_count": null,
      "outputs": []
    }
  ]
}